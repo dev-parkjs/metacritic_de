{
 "cells": [
  {
   "cell_type": "code",
   "execution_count": null,
   "metadata": {},
   "outputs": [],
   "source": [
    "pip install bs4"
   ]
  },
  {
   "cell_type": "code",
   "execution_count": null,
   "metadata": {},
   "outputs": [],
   "source": [
    "pip install requests"
   ]
  },
  {
   "cell_type": "code",
   "execution_count": null,
   "metadata": {},
   "outputs": [],
   "source": [
    "pip install lxml"
   ]
  },
  {
   "cell_type": "code",
   "execution_count": null,
   "metadata": {},
   "outputs": [],
   "source": [
    "pip install numpy"
   ]
  },
  {
   "cell_type": "code",
   "execution_count": null,
   "metadata": {},
   "outputs": [],
   "source": [
    "pip install pandas"
   ]
  },
  {
   "cell_type": "code",
   "execution_count": null,
   "metadata": {},
   "outputs": [],
   "source": [
    "pip install selenium"
   ]
  },
  {
   "cell_type": "code",
   "execution_count": null,
   "metadata": {},
   "outputs": [],
   "source": [
    "from bs4 import BeautifulSoup\n",
    "import requests\n",
    "import lxml\n",
    "import numpy as np\n",
    "import pandas as pd\n",
    "from selenium import webdriver "
   ]
  },
  {
   "cell_type": "code",
   "execution_count": null,
   "metadata": {},
   "outputs": [],
   "source": [
    "url = 'https://www.metacritic.com/browse/games/score/metascore/all/all/filtered?sort=desc'\n",
    "user_agent = {'User-agent': 'Mozilla/5.0 (Windows NT 10.0; Win64; x64) AppleWebKit/537.36 (KHTML, like Gecko) Chrome/115.0.0.0 Safari/537.36'}\n",
    "response  = requests.get(url, headers = user_agent)\n",
    "soup = BeautifulSoup(response.text, 'lxml')"
   ]
  },
  {
   "cell_type": "code",
   "execution_count": null,
   "metadata": {},
   "outputs": [],
   "source": [
    "soup.find('a', class_ = 'title')"
   ]
  },
  {
   "cell_type": "code",
   "execution_count": null,
   "metadata": {},
   "outputs": [],
   "source": [
    "soup.find('a', class_ = 'title').text"
   ]
  },
  {
   "cell_type": "code",
   "execution_count": null,
   "metadata": {},
   "outputs": [],
   "source": [
    "soup.find('div', class_ = 'clamp-details')"
   ]
  },
  {
   "cell_type": "code",
   "execution_count": null,
   "metadata": {},
   "outputs": [],
   "source": [
    "details = soup.find('div', class_ = 'clamp-details')\n",
    "platform = details.find('span', class_ = 'data')\n",
    "platform"
   ]
  },
  {
   "cell_type": "code",
   "execution_count": null,
   "metadata": {},
   "outputs": [],
   "source": [
    "platform.text.strip()"
   ]
  },
  {
   "cell_type": "code",
   "execution_count": null,
   "metadata": {},
   "outputs": [],
   "source": [
    "details.find_all('span')"
   ]
  },
  {
   "cell_type": "code",
   "execution_count": null,
   "metadata": {},
   "outputs": [],
   "source": [
    "release = details.find_all('span')[-1]\n",
    "release"
   ]
  },
  {
   "cell_type": "code",
   "execution_count": null,
   "metadata": {},
   "outputs": [],
   "source": [
    "release.text"
   ]
  },
  {
   "cell_type": "code",
   "execution_count": null,
   "metadata": {},
   "outputs": [],
   "source": [
    "scores = soup.find('div', class_ = 'browse-score-clamp')\n",
    "scores"
   ]
  },
  {
   "cell_type": "code",
   "execution_count": null,
   "metadata": {},
   "outputs": [],
   "source": [
    "meta = scores.find_all('div')[1].text\n",
    "meta"
   ]
  },
  {
   "cell_type": "code",
   "execution_count": null,
   "metadata": {},
   "outputs": [],
   "source": [
    "user = scores.find_all('div')[-1].text\n",
    "user"
   ]
  },
  {
   "cell_type": "code",
   "execution_count": null,
   "metadata": {},
   "outputs": [],
   "source": [
    "summary = soup.find('div', class_ = 'summary')\n",
    "summary"
   ]
  },
  {
   "cell_type": "code",
   "execution_count": null,
   "metadata": {},
   "outputs": [],
   "source": [
    "summary.text.strip()"
   ]
  },
  {
   "cell_type": "code",
   "execution_count": null,
   "metadata": {},
   "outputs": [],
   "source": [
    "must_play = soup.find('td', class_ = 'clamp-image-wrap')\n",
    "must_play"
   ]
  },
  {
   "cell_type": "code",
   "execution_count": null,
   "metadata": {},
   "outputs": [],
   "source": [
    "if must_play.find('span', class_ = 'mcmust'):\n",
    "    print('Yes')\n",
    "else:\n",
    "    print('No')"
   ]
  },
  {
   "cell_type": "code",
   "execution_count": null,
   "metadata": {},
   "outputs": [],
   "source": [
    "games_dict = {\n",
    "    'name' : [],\n",
    "    'platform' : [],\n",
    "    'release_date' : [],\n",
    "    'summary' : [],\n",
    "    'must_play' : [],\n",
    "    'meta_score' : [],\n",
    "    'user_score' : []\n",
    "}"
   ]
  },
  {
   "cell_type": "code",
   "execution_count": null,
   "metadata": {},
   "outputs": [],
   "source": [
    "names = soup.find_all('a', class_ = 'title')\n",
    "for name in names:\n",
    "    games_dict['name'].append(name.text)"
   ]
  },
  {
   "cell_type": "code",
   "execution_count": null,
   "metadata": {},
   "outputs": [],
   "source": [
    "details = soup.find_all('div', class_ = 'clamp-details')\n",
    "len(details)"
   ]
  },
  {
   "cell_type": "code",
   "execution_count": null,
   "metadata": {},
   "outputs": [],
   "source": [
    "for detail in details:\n",
    "    platform = detail.find('span', class_ = 'data').text.strip()\n",
    "    games_dict['platform'].append(platform)"
   ]
  },
  {
   "cell_type": "code",
   "execution_count": null,
   "metadata": {},
   "outputs": [],
   "source": [
    "for detail in details:\n",
    "    release = detail.find_all('span')[-1].text\n",
    "    games_dict['release_date'].append(release)"
   ]
  },
  {
   "cell_type": "code",
   "execution_count": null,
   "metadata": {},
   "outputs": [],
   "source": [
    "scores = soup.find_all('div', class_ = 'browse-score-clamp')\n",
    "len(scores)"
   ]
  },
  {
   "cell_type": "code",
   "execution_count": null,
   "metadata": {},
   "outputs": [],
   "source": [
    "for score in scores:\n",
    "    meta = score.find_all('div')[1].text\n",
    "    games_dict['meta_score'].append(meta)"
   ]
  },
  {
   "cell_type": "code",
   "execution_count": null,
   "metadata": {},
   "outputs": [],
   "source": [
    "for score in scores:    \n",
    "    user = score.find_all('div')[-1].text\n",
    "    games_dict['user_score'].append(user)"
   ]
  },
  {
   "cell_type": "code",
   "execution_count": null,
   "metadata": {},
   "outputs": [],
   "source": [
    "summary = soup.find_all('div', class_ = 'summary')\n",
    "for summ in summary:\n",
    "    games_dict['summary'].append(summ.text.strip())"
   ]
  },
  {
   "cell_type": "code",
   "execution_count": null,
   "metadata": {},
   "outputs": [],
   "source": [
    "must_play = soup.find_all('td', class_ = 'clamp-image-wrap')\n",
    "for i in must_play:\n",
    "    if i.find('span', class_ = 'mcmust'):\n",
    "        games_dict['must_play'].append('Yes')\n",
    "    else:\n",
    "        games_dict['must_play'].append('No')"
   ]
  },
  {
   "cell_type": "code",
   "execution_count": null,
   "metadata": {},
   "outputs": [],
   "source": [
    "game_df = pd.DataFrame(games_dict)\n",
    "game_df"
   ]
  },
  {
   "cell_type": "code",
   "execution_count": null,
   "metadata": {},
   "outputs": [],
   "source": [
    "final_page = 205 #Update this\n",
    "\n",
    "for page in range(1,final_page):\n",
    "    url = 'https://www.metacritic.com/browse/games/score/metascore/all/all/filtered?sort=desc&page='+str(page)\n",
    "    user_agent = {'User-agent': 'Mozilla/5.0 (Windows NT 10.0; Win64; x64) AppleWebKit/537.36 (KHTML, like Gecko) Chrome/115.0.0.0 Safari/537.36'}\n",
    "    response  = requests.get(url, headers = user_agent)\n",
    "    soup = BeautifulSoup(response.text, 'lxml')\n",
    "    names = soup.find_all('a', class_ = 'title')\n",
    "    for name in names:\n",
    "        games_dict['name'].append(name.text)\n",
    "    details = soup.find_all('div', class_ = 'clamp-details')\n",
    "    for detail in details:\n",
    "        platform = detail.find('span', class_ = 'data').text.strip()\n",
    "        games_dict['platform'].append(platform)\n",
    "        release = detail.find_all('span')[-1].text\n",
    "        games_dict['release_date'].append(release)\n",
    "    scores = soup.find_all('div', class_ = 'browse-score-clamp')\n",
    "    for score in scores:\n",
    "        meta = score.find_all('div')[1].text\n",
    "        games_dict['meta_score'].append(meta)\n",
    "        user = score.find_all('div')[-1].text\n",
    "        games_dict['user_score'].append(user)\n",
    "    summary = soup.find_all('div', class_ = 'summary')\n",
    "    for summ in summary:\n",
    "        games_dict['summary'].append(summ.text.strip())\n",
    "    must_play = soup.find_all('td', class_ = 'clamp-image-wrap')\n",
    "    for i in must_play:\n",
    "        if i.find('span', class_ = 'mcmust'):\n",
    "            games_dict['must_play'].append('Yes')\n",
    "        else:\n",
    "            games_dict['must_play'].append('No')"
   ]
  },
  {
   "cell_type": "code",
   "execution_count": null,
   "metadata": {},
   "outputs": [],
   "source": [
    "game_df = pd.DataFrame(games_dict)\n",
    "game_df"
   ]
  },
  {
   "cell_type": "code",
   "execution_count": null,
   "metadata": {},
   "outputs": [],
   "source": [
    "game_df.shape"
   ]
  },
  {
   "cell_type": "code",
   "execution_count": null,
   "metadata": {},
   "outputs": [],
   "source": [
    "game_df.to_csv('metacritic.csv', index=False)"
   ]
  },
  {
   "cell_type": "code",
   "execution_count": null,
   "metadata": {},
   "outputs": [],
   "source": [
    "new_game_df=game_df.drop(['release_date','summary'],axis=1)\n",
    "new_game_df"
   ]
  },
  {
   "cell_type": "code",
   "execution_count": null,
   "metadata": {},
   "outputs": [],
   "source": [
    "new_game_df['platform'].value_counts(normalize=True)"
   ]
  },
  {
   "cell_type": "code",
   "execution_count": null,
   "metadata": {},
   "outputs": [],
   "source": [
    "new_game_df['user_score'].value_counts(normalize=True)"
   ]
  },
  {
   "cell_type": "code",
   "execution_count": null,
   "metadata": {},
   "outputs": [],
   "source": []
  }
 ],
 "metadata": {
  "kernelspec": {
   "display_name": "Python 3 (ipykernel)",
   "language": "python",
   "name": "python3"
  },
  "language_info": {
   "codemirror_mode": {
    "name": "ipython",
    "version": 3
   },
   "file_extension": ".py",
   "mimetype": "text/x-python",
   "name": "python",
   "nbconvert_exporter": "python",
   "pygments_lexer": "ipython3",
   "version": "3.9.16"
  }
 },
 "nbformat": 4,
 "nbformat_minor": 2
}
